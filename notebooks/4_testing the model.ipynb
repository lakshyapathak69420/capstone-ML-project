{
 "cells": [
  {
   "cell_type": "code",
   "execution_count": 11,
   "id": "782999b8",
   "metadata": {},
   "outputs": [],
   "source": [
    "\n",
    "import pandas as pd \n",
    "import numpy as np\n",
    "import matplotlib.pyplot as plt\n",
    "import seaborn as sns"
   ]
  },
  {
   "cell_type": "code",
   "execution_count": 12,
   "id": "347a6c79",
   "metadata": {},
   "outputs": [],
   "source": [
    "import  os\n",
    "import pickle \n",
    "model_file = os.listdir(\"/home/black_tree/Documents/computer_science/capstone-ML-project/models\")\n",
    "model_path = []\n",
    "\n",
    "for f in model_file:\n",
    "    p = os.path.join(\"/home/black_tree/Documents/computer_science/capstone-ML-project/models\", f)\n",
    "    model_path.append(p)\n",
    "knnc = None\n",
    "lr = None\n",
    "rfc = None\n",
    "xgb = None\n",
    "\n",
    "models = [rfc, xgb, lr, knnc]\n",
    "\n",
    "for i in range(len(models)):\n",
    "    with open(model_path[i], \"rb\") as f:\n",
    "        models[i] = pickle.load(f)\n",
    "            \n",
    "    \n",
    "\n"
   ]
  },
  {
   "cell_type": "code",
   "execution_count": 13,
   "id": "fc67e929",
   "metadata": {},
   "outputs": [],
   "source": [
    "rfc = models[0]\n",
    "xgb = models[1]\n",
    "lr = models[2]\n",
    "knnc = models[3]"
   ]
  },
  {
   "cell_type": "code",
   "execution_count": 14,
   "id": "2860c665",
   "metadata": {},
   "outputs": [],
   "source": [
    "test = pd.read_csv(\"/home/black_tree/Documents/computer_science/capstone-ML-project/data/testing_data.csv\")"
   ]
  },
  {
   "cell_type": "code",
   "execution_count": 15,
   "id": "486c3ad1",
   "metadata": {},
   "outputs": [
    {
     "data": {
      "text/html": [
       "<div>\n",
       "<style scoped>\n",
       "    .dataframe tbody tr th:only-of-type {\n",
       "        vertical-align: middle;\n",
       "    }\n",
       "\n",
       "    .dataframe tbody tr th {\n",
       "        vertical-align: top;\n",
       "    }\n",
       "\n",
       "    .dataframe thead th {\n",
       "        text-align: right;\n",
       "    }\n",
       "</style>\n",
       "<table border=\"1\" class=\"dataframe\">\n",
       "  <thead>\n",
       "    <tr style=\"text-align: right;\">\n",
       "      <th></th>\n",
       "      <th>HighBP</th>\n",
       "      <th>HighChol</th>\n",
       "      <th>CholCheck</th>\n",
       "      <th>BMI</th>\n",
       "      <th>Smoker</th>\n",
       "      <th>Stroke</th>\n",
       "      <th>HeartDiseaseorAttack</th>\n",
       "      <th>PhysActivity</th>\n",
       "      <th>Fruits</th>\n",
       "      <th>Veggies</th>\n",
       "      <th>...</th>\n",
       "      <th>NoDocbcCost</th>\n",
       "      <th>GenHlth</th>\n",
       "      <th>MentHlth</th>\n",
       "      <th>PhysHlth</th>\n",
       "      <th>DiffWalk</th>\n",
       "      <th>Sex</th>\n",
       "      <th>Age</th>\n",
       "      <th>Education</th>\n",
       "      <th>Income</th>\n",
       "      <th>Diabetic</th>\n",
       "    </tr>\n",
       "  </thead>\n",
       "  <tbody>\n",
       "    <tr>\n",
       "      <th>0</th>\n",
       "      <td>0.0</td>\n",
       "      <td>0.0</td>\n",
       "      <td>1.0</td>\n",
       "      <td>0.0</td>\n",
       "      <td>1.0</td>\n",
       "      <td>0.0</td>\n",
       "      <td>0.0</td>\n",
       "      <td>0.0</td>\n",
       "      <td>0.0</td>\n",
       "      <td>0.0</td>\n",
       "      <td>...</td>\n",
       "      <td>0.0</td>\n",
       "      <td>4.0</td>\n",
       "      <td>10.0</td>\n",
       "      <td>10.0</td>\n",
       "      <td>1.0</td>\n",
       "      <td>0.0</td>\n",
       "      <td>9.0</td>\n",
       "      <td>4.0</td>\n",
       "      <td>5.0</td>\n",
       "      <td>1.0</td>\n",
       "    </tr>\n",
       "    <tr>\n",
       "      <th>1</th>\n",
       "      <td>0.0</td>\n",
       "      <td>0.0</td>\n",
       "      <td>1.0</td>\n",
       "      <td>0.0</td>\n",
       "      <td>1.0</td>\n",
       "      <td>0.0</td>\n",
       "      <td>0.0</td>\n",
       "      <td>1.0</td>\n",
       "      <td>1.0</td>\n",
       "      <td>1.0</td>\n",
       "      <td>...</td>\n",
       "      <td>0.0</td>\n",
       "      <td>2.0</td>\n",
       "      <td>0.0</td>\n",
       "      <td>0.0</td>\n",
       "      <td>0.0</td>\n",
       "      <td>1.0</td>\n",
       "      <td>11.0</td>\n",
       "      <td>5.0</td>\n",
       "      <td>6.0</td>\n",
       "      <td>0.0</td>\n",
       "    </tr>\n",
       "    <tr>\n",
       "      <th>2</th>\n",
       "      <td>1.0</td>\n",
       "      <td>1.0</td>\n",
       "      <td>1.0</td>\n",
       "      <td>0.0</td>\n",
       "      <td>0.0</td>\n",
       "      <td>0.0</td>\n",
       "      <td>0.0</td>\n",
       "      <td>1.0</td>\n",
       "      <td>1.0</td>\n",
       "      <td>1.0</td>\n",
       "      <td>...</td>\n",
       "      <td>0.0</td>\n",
       "      <td>2.0</td>\n",
       "      <td>0.0</td>\n",
       "      <td>0.0</td>\n",
       "      <td>0.0</td>\n",
       "      <td>1.0</td>\n",
       "      <td>8.0</td>\n",
       "      <td>6.0</td>\n",
       "      <td>8.0</td>\n",
       "      <td>0.0</td>\n",
       "    </tr>\n",
       "    <tr>\n",
       "      <th>3</th>\n",
       "      <td>1.0</td>\n",
       "      <td>0.0</td>\n",
       "      <td>1.0</td>\n",
       "      <td>0.0</td>\n",
       "      <td>1.0</td>\n",
       "      <td>0.0</td>\n",
       "      <td>0.0</td>\n",
       "      <td>1.0</td>\n",
       "      <td>1.0</td>\n",
       "      <td>1.0</td>\n",
       "      <td>...</td>\n",
       "      <td>0.0</td>\n",
       "      <td>2.0</td>\n",
       "      <td>4.0</td>\n",
       "      <td>0.0</td>\n",
       "      <td>0.0</td>\n",
       "      <td>1.0</td>\n",
       "      <td>6.0</td>\n",
       "      <td>6.0</td>\n",
       "      <td>8.0</td>\n",
       "      <td>0.0</td>\n",
       "    </tr>\n",
       "    <tr>\n",
       "      <th>4</th>\n",
       "      <td>1.0</td>\n",
       "      <td>0.0</td>\n",
       "      <td>1.0</td>\n",
       "      <td>0.0</td>\n",
       "      <td>0.0</td>\n",
       "      <td>0.0</td>\n",
       "      <td>0.0</td>\n",
       "      <td>1.0</td>\n",
       "      <td>1.0</td>\n",
       "      <td>1.0</td>\n",
       "      <td>...</td>\n",
       "      <td>0.0</td>\n",
       "      <td>2.0</td>\n",
       "      <td>0.0</td>\n",
       "      <td>4.0</td>\n",
       "      <td>0.0</td>\n",
       "      <td>1.0</td>\n",
       "      <td>8.0</td>\n",
       "      <td>4.0</td>\n",
       "      <td>4.0</td>\n",
       "      <td>0.0</td>\n",
       "    </tr>\n",
       "  </tbody>\n",
       "</table>\n",
       "<p>5 rows × 22 columns</p>\n",
       "</div>"
      ],
      "text/plain": [
       "   HighBP  HighChol  CholCheck  BMI  Smoker  Stroke  HeartDiseaseorAttack  \\\n",
       "0     0.0       0.0        1.0  0.0     1.0     0.0                   0.0   \n",
       "1     0.0       0.0        1.0  0.0     1.0     0.0                   0.0   \n",
       "2     1.0       1.0        1.0  0.0     0.0     0.0                   0.0   \n",
       "3     1.0       0.0        1.0  0.0     1.0     0.0                   0.0   \n",
       "4     1.0       0.0        1.0  0.0     0.0     0.0                   0.0   \n",
       "\n",
       "   PhysActivity  Fruits  Veggies  ...  NoDocbcCost  GenHlth  MentHlth  \\\n",
       "0           0.0     0.0      0.0  ...          0.0      4.0      10.0   \n",
       "1           1.0     1.0      1.0  ...          0.0      2.0       0.0   \n",
       "2           1.0     1.0      1.0  ...          0.0      2.0       0.0   \n",
       "3           1.0     1.0      1.0  ...          0.0      2.0       4.0   \n",
       "4           1.0     1.0      1.0  ...          0.0      2.0       0.0   \n",
       "\n",
       "   PhysHlth  DiffWalk  Sex   Age  Education  Income  Diabetic  \n",
       "0      10.0       1.0  0.0   9.0        4.0     5.0       1.0  \n",
       "1       0.0       0.0  1.0  11.0        5.0     6.0       0.0  \n",
       "2       0.0       0.0  1.0   8.0        6.0     8.0       0.0  \n",
       "3       0.0       0.0  1.0   6.0        6.0     8.0       0.0  \n",
       "4       4.0       0.0  1.0   8.0        4.0     4.0       0.0  \n",
       "\n",
       "[5 rows x 22 columns]"
      ]
     },
     "execution_count": 15,
     "metadata": {},
     "output_type": "execute_result"
    }
   ],
   "source": [
    "test.head()"
   ]
  },
  {
   "cell_type": "code",
   "execution_count": 16,
   "id": "db72e9f9",
   "metadata": {},
   "outputs": [],
   "source": [
    "x_test = test.drop([\"Diabetic\"] , axis=1)"
   ]
  },
  {
   "cell_type": "code",
   "execution_count": 17,
   "id": "0fef02bd",
   "metadata": {},
   "outputs": [],
   "source": [
    "y_test = test[\"Diabetic\"]"
   ]
  },
  {
   "cell_type": "markdown",
   "id": "ed904a04",
   "metadata": {},
   "source": [
    "CHECKING THEE PERFORMANCE ON TESTING DATA"
   ]
  },
  {
   "cell_type": "code",
   "execution_count": null,
   "id": "669c9a55",
   "metadata": {},
   "outputs": [],
   "source": [
    "# intialise the metrics \n",
    "from sklearn.metrics import precision_score, recall_score, roc_auc_score, accuracy_score, confusion_matrix, roc_curve"
   ]
  },
  {
   "cell_type": "code",
   "execution_count": 19,
   "id": "84656db1",
   "metadata": {},
   "outputs": [],
   "source": [
    "p_lr = lr.predict(x_test)\n",
    "p_knnc = knnc.predict(x_test)\n",
    "p_rfc = rfc.predict(x_test)\n",
    "p_xgb = xgb.predict(x_test)\n",
    "\n",
    "s_lr = lr.predict_proba(x_test)\n",
    "s_knnc = knnc.predict_proba(x_test)\n",
    "s_rfc = rfc.predict_proba(x_test)\n",
    "s_xgb = xgb.predict_proba(x_test)\n"
   ]
  },
  {
   "cell_type": "code",
   "execution_count": 20,
   "id": "5a5fbc22",
   "metadata": {},
   "outputs": [],
   "source": [
    "pred = [p_lr\n",
    ",p_knnc\n",
    ",p_rfc\n",
    ",p_xgb]\n",
    "\n",
    "probab = [s_lr,\n",
    "s_knnc,\n",
    "s_rfc,\n",
    "s_xgb,]\n"
   ]
  },
  {
   "cell_type": "code",
   "execution_count": 21,
   "id": "3505e563",
   "metadata": {},
   "outputs": [],
   "source": [
    "acc = {\"lr\": None,\n",
    "       \"knnc\": None, \"rfc\": None, \"xgb\": None}\n",
    "\n",
    "recall = {\"lr\": None, \n",
    "       \"knnc\": None, \"rfc\": None, \"xgb\": None}\n",
    "presc = {\"lr\": None, \n",
    "       \"knnc\": None, \"rfc\": None, \"xgb\": None}\n",
    "roc = {\"lr\": None, \n",
    "       \"knnc\": None, \"rfc\": None, \"xgb\": None}\n",
    "cm = {\"lr\": None, \n",
    "       \"knnc\": None, \"rfc\": None, \"xgb\": None}\n",
    "\n"
   ]
  },
  {
   "cell_type": "code",
   "execution_count": 22,
   "id": "61778ed9",
   "metadata": {},
   "outputs": [],
   "source": [
    "all_the_models = [lr,\n",
    "knnc,\n",
    "rfc,\n",
    "xgb,]"
   ]
  },
  {
   "cell_type": "code",
   "execution_count": 25,
   "id": "b064ad73",
   "metadata": {},
   "outputs": [],
   "source": [
    "for model in all_the_models:\n",
    "    i = 0\n",
    "    for key in acc:\n",
    "        acc[key] = accuracy_score(y_true= y_test, y_pred= pred[i])\n",
    "        i += 1\n",
    "\n",
    "for model in all_the_models:\n",
    "    i = 0\n",
    "    for key in recall:\n",
    "        recall[key] = recall_score(y_true= y_test, y_pred= pred[i])\n",
    "        i += 1\n",
    "\n",
    "for model in all_the_models:\n",
    "    i = 0\n",
    "    for key in presc:\n",
    "        presc[key] = precision_score(y_true= y_test, y_pred= pred[i])\n",
    "        i += 1\n",
    "\n",
    "for model in all_the_models:\n",
    "    i = 0\n",
    "    for key in roc:\n",
    "        roc[key] = roc_auc_score(y_true= y_test, y_score= probab[i][:, 1])\n",
    "        i += 1\n",
    "\n",
    "\n",
    "for model in all_the_models:\n",
    "    i = 0\n",
    "    for key in cm:\n",
    "        cm[key] = confusion_matrix(y_true= y_test, y_pred= pred[i])\n",
    "        i += 1"
   ]
  },
  {
   "cell_type": "code",
   "execution_count": 26,
   "id": "904e29a8",
   "metadata": {},
   "outputs": [
    {
     "name": "stdout",
     "output_type": "stream",
     "text": [
      "Accuracy:\n",
      "   # lr: 0.7206\n",
      "   # knnc: 0.7587\n",
      "   # rfc: 0.8210\n",
      "   # xgb: 0.7337\n"
     ]
    }
   ],
   "source": [
    "print(\"Accuracy:\")\n",
    "for k in acc:\n",
    "    a = format(acc[k], \".4f\")\n",
    "    print(f\"   # {k}: {a}\")"
   ]
  },
  {
   "cell_type": "code",
   "execution_count": 27,
   "id": "67680231",
   "metadata": {},
   "outputs": [
    {
     "name": "stdout",
     "output_type": "stream",
     "text": [
      "Roc score\n",
      "  # lr: 0.81\n",
      "  # knnc: 0.84\n",
      "  # rfc: 0.94\n",
      "  # xgb: 0.85\n"
     ]
    }
   ],
   "source": [
    "print(\"Roc score\")\n",
    "for k in  roc:\n",
    "    r = roc[k]\n",
    "    print(f\"  # {k}: {r:.2f}\")"
   ]
  },
  {
   "cell_type": "code",
   "execution_count": 28,
   "id": "6d218117",
   "metadata": {},
   "outputs": [
    {
     "name": "stdout",
     "output_type": "stream",
     "text": [
      "Recall and Precision\n",
      " # lr: 0.75 | 0.38\n",
      " # knnc: 0.83 | 0.43\n",
      " # rfc: 0.92 | 0.52\n",
      " # xgb: 0.82 | 0.40\n"
     ]
    }
   ],
   "source": [
    "print(\"Recall and Precision\")\n",
    "for k in recall:\n",
    "    rec = recall[k]\n",
    "    pre = presc[k]\n",
    "    print(f\" # {k}: {rec:.2f} | {pre:.2f}\")"
   ]
  },
  {
   "cell_type": "code",
   "execution_count": 29,
   "id": "d46c4670",
   "metadata": {},
   "outputs": [
    {
     "data": {
      "image/png": "[encoded data removed]",
      "text/plain": [
       "<Figure size 640x480 with 8 Axes>"
      ]
     },
     "metadata": {},
     "output_type": "display_data"
    }
   ],
   "source": [
    "fig, ax = plt.subplots(nrows=2 , ncols=2)\n",
    "models = [\"lr\", \"knnc\", \"rfc\", \"xgb\"]\n",
    "k = 0\n",
    "for i in range(2):\n",
    "\n",
    "    for j in range(2):\n",
    "        sns.heatmap(cm[models[k]], ax=ax[i][j], annot=True, \n",
    "                    xticklabels=[\"False\", \"True\"], yticklabels=[\"False\", \"True\"]\n",
    "                    )\n",
    "        ax[i][j].set_title(models[k])\n",
    "        k += 1\n",
    "        \n",
    "plt.tight_layout()"
   ]
  },
  {
   "cell_type": "code",
   "execution_count": 31,
   "id": "54625de2",
   "metadata": {},
   "outputs": [],
   "source": [
    "models = recall.keys()\n",
    "accuracy = acc.values()\n",
    "recall_s = recall.values()\n",
    "prescion = presc.values()\n",
    "confusion_mat = cm.values()\n",
    "roc_area = roc.values()\n",
    "model_number = [\"pass 2\" for _ in range(4)]\n",
    "\n",
    "df_metrics = pd.DataFrame({\"models\" : models, \n",
    "                           \"accuracy\" : accuracy,\n",
    "                                   \"recall\" : recall_s, \n",
    "                                   \"precision_score\": prescion, \n",
    "                                   \"cm\": confusion_mat, \n",
    "                                   \"roc\" : roc_area, \n",
    "                                   \"model number\": model_number})\n"
   ]
  },
  {
   "cell_type": "code",
   "execution_count": 32,
   "id": "11285835",
   "metadata": {},
   "outputs": [],
   "source": [
    "\n",
    "df_metrics[\"recall\"] = round(df_metrics[\"recall\"]*100, 2)\n",
    "df_metrics[\"accuracy\"] = round(df_metrics[\"accuracy\"]*100, 2)\n",
    "df_metrics[\"precision_score\"] = round(df_metrics[\"precision_score\"]*100, 2)\n",
    "df_metrics[\"roc\"] = round(df_metrics[\"roc\"]*100, 2)"
   ]
  },
  {
   "cell_type": "code",
   "execution_count": 33,
   "id": "446b7593",
   "metadata": {},
   "outputs": [
    {
     "name": "stderr",
     "output_type": "stream",
     "text": [
      "/tmp/ipykernel_26854/4190038815.py:10: FutureWarning: \n",
      "\n",
      "Passing `palette` without assigning `hue` is deprecated and will be removed in v0.14.0. Assign the `x` variable to `hue` and set `legend=False` for the same effect.\n",
      "\n",
      "  sns.barplot(\n",
      "/tmp/ipykernel_26854/4190038815.py:10: FutureWarning: \n",
      "\n",
      "Passing `palette` without assigning `hue` is deprecated and will be removed in v0.14.0. Assign the `x` variable to `hue` and set `legend=False` for the same effect.\n",
      "\n",
      "  sns.barplot(\n",
      "/tmp/ipykernel_26854/4190038815.py:10: FutureWarning: \n",
      "\n",
      "Passing `palette` without assigning `hue` is deprecated and will be removed in v0.14.0. Assign the `x` variable to `hue` and set `legend=False` for the same effect.\n",
      "\n",
      "  sns.barplot(\n",
      "/tmp/ipykernel_26854/4190038815.py:10: FutureWarning: \n",
      "\n",
      "Passing `palette` without assigning `hue` is deprecated and will be removed in v0.14.0. Assign the `x` variable to `hue` and set `legend=False` for the same effect.\n",
      "\n",
      "  sns.barplot(\n"
     ]
    },
    {
     "data": {
      "image/png": "[encoded data removed]",
      "text/plain": [
       "<Figure size 1000x600 with 4 Axes>"
      ]
     },
     "metadata": {},
     "output_type": "display_data"
    }
   ],
   "source": [
    "\n",
    "metrics = [\"accuracy\", \"recall\", \"precision_score\", \"roc\"]\n",
    "\n",
    "\n",
    "colors = [\"#FF6F61\", \"#6B5B95\", \"#88B04B\", \"#F7CAC9\"]  \n",
    "\n",
    "fig, ax = plt.subplots(2, 2, figsize=(10, 6))\n",
    "\n",
    "for i, metric in enumerate(metrics):\n",
    "    row, col = divmod(i, 2)\n",
    "    sns.barplot(\n",
    "        x=\"models\",\n",
    "        y=metric,\n",
    "        data=df_metrics,\n",
    "        ax=ax[row][col],\n",
    "        palette=colors   # apply different colors to each bar\n",
    "    )\n",
    "    ax[row][col].set_title(metric.capitalize())\n",
    "    ax[row][col].set_ylabel(\"Score\")\n",
    "    ax[row][col].set_xlabel(\"\")\n",
    "\n",
    "plt.tight_layout()\n",
    "plt.show();\n"
   ]
  },
  {
   "cell_type": "markdown",
   "id": "2667bb33",
   "metadata": {},
   "source": [
    "## FINAL THOUGHTS \n",
    "\n",
    "The experiments explored four models — Logistic Regression, KNN, Random Forest, and XGBoost. Each contributed useful insights, with Random Forest showing the strongest overall balance, KNN and XGBoost offering competitive middle ground, and Logistic Regression serving as a simple baseline for comparison.\n",
    "\n",
    "The results achieved here are reasonable given the setup. Since the work was carried out on a personal laptop, computational limits naturally restricted deeper hyperparameter searches and more extensive experimentation. Still, the models were able to capture meaningful patterns in the data and provide a clear sense of where performance stands.\n",
    "\n",
    "This notebook therefore wraps up the experimentation with a practical baseline in place. With additional resources and time, the results could be pushed further, but as it stands, the models deliver a solid foundation that can inform future improvements and refinements.\n"
   ]
  },
  {
   "cell_type": "code",
   "execution_count": null,
   "id": "9069d957",
   "metadata": {},
   "outputs": [],
   "source": []
  }
 ],
 "metadata": {
  "kernelspec": {
   "display_name": "venv",
   "language": "python",
   "name": "python3"
  },
  "language_info": {
   "codemirror_mode": {
    "name": "ipython",
    "version": 3
   },
   "file_extension": ".py",
   "mimetype": "text/x-python",
   "name": "python",
   "nbconvert_exporter": "python",
   "pygments_lexer": "ipython3",
   "version": "3.12.10"
  }
 },
 "nbformat": 4,
 "nbformat_minor": 5
}
