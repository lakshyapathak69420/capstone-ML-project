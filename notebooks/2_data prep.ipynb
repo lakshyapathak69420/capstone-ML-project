{
 "cells": [
  {
   "cell_type": "code",
   "execution_count": 1,
   "id": "2ed26a58",
   "metadata": {},
   "outputs": [],
   "source": [
    "import pandas as pd \n",
    "import numpy as np\n",
    "import matplotlib.pyplot as plt\n",
    "import seaborn as sns"
   ]
  },
  {
   "cell_type": "code",
   "execution_count": 2,
   "id": "3a5b9cdd",
   "metadata": {},
   "outputs": [],
   "source": [
    "df1 = pd.read_csv(\"/home/black_tree/Documents/computer_science/capstone-ML-project/data/diabetes_012_health_indicators_BRFSS2015.csv\")\n",
    "df2 = pd.read_csv(\"/home/black_tree/Documents/computer_science/capstone-ML-project/data/diabetes_binary_5050split_health_indicators_BRFSS2015.csv\")\n",
    "df3 = pd.read_csv(\"/home/black_tree/Documents/computer_science/capstone-ML-project/data/diabetes_binary_health_indicators_BRFSS2015.csv\")"
   ]
  },
  {
   "cell_type": "code",
   "execution_count": 3,
   "id": "631d7072",
   "metadata": {},
   "outputs": [
    {
     "data": {
      "text/html": [
       "<div>\n",
       "<style scoped>\n",
       "    .dataframe tbody tr th:only-of-type {\n",
       "        vertical-align: middle;\n",
       "    }\n",
       "\n",
       "    .dataframe tbody tr th {\n",
       "        vertical-align: top;\n",
       "    }\n",
       "\n",
       "    .dataframe thead th {\n",
       "        text-align: right;\n",
       "    }\n",
       "</style>\n",
       "<table border=\"1\" class=\"dataframe\">\n",
       "  <thead>\n",
       "    <tr style=\"text-align: right;\">\n",
       "      <th></th>\n",
       "      <th>Diabetes_012</th>\n",
       "      <th>HighBP</th>\n",
       "      <th>HighChol</th>\n",
       "      <th>CholCheck</th>\n",
       "      <th>BMI</th>\n",
       "      <th>Smoker</th>\n",
       "      <th>Stroke</th>\n",
       "      <th>HeartDiseaseorAttack</th>\n",
       "      <th>PhysActivity</th>\n",
       "      <th>Fruits</th>\n",
       "      <th>...</th>\n",
       "      <th>AnyHealthcare</th>\n",
       "      <th>NoDocbcCost</th>\n",
       "      <th>GenHlth</th>\n",
       "      <th>MentHlth</th>\n",
       "      <th>PhysHlth</th>\n",
       "      <th>DiffWalk</th>\n",
       "      <th>Sex</th>\n",
       "      <th>Age</th>\n",
       "      <th>Education</th>\n",
       "      <th>Income</th>\n",
       "    </tr>\n",
       "  </thead>\n",
       "  <tbody>\n",
       "    <tr>\n",
       "      <th>0</th>\n",
       "      <td>0.0</td>\n",
       "      <td>1.0</td>\n",
       "      <td>1.0</td>\n",
       "      <td>1.0</td>\n",
       "      <td>40.0</td>\n",
       "      <td>1.0</td>\n",
       "      <td>0.0</td>\n",
       "      <td>0.0</td>\n",
       "      <td>0.0</td>\n",
       "      <td>0.0</td>\n",
       "      <td>...</td>\n",
       "      <td>1.0</td>\n",
       "      <td>0.0</td>\n",
       "      <td>5.0</td>\n",
       "      <td>18.0</td>\n",
       "      <td>15.0</td>\n",
       "      <td>1.0</td>\n",
       "      <td>0.0</td>\n",
       "      <td>9.0</td>\n",
       "      <td>4.0</td>\n",
       "      <td>3.0</td>\n",
       "    </tr>\n",
       "    <tr>\n",
       "      <th>1</th>\n",
       "      <td>0.0</td>\n",
       "      <td>0.0</td>\n",
       "      <td>0.0</td>\n",
       "      <td>0.0</td>\n",
       "      <td>25.0</td>\n",
       "      <td>1.0</td>\n",
       "      <td>0.0</td>\n",
       "      <td>0.0</td>\n",
       "      <td>1.0</td>\n",
       "      <td>0.0</td>\n",
       "      <td>...</td>\n",
       "      <td>0.0</td>\n",
       "      <td>1.0</td>\n",
       "      <td>3.0</td>\n",
       "      <td>0.0</td>\n",
       "      <td>0.0</td>\n",
       "      <td>0.0</td>\n",
       "      <td>0.0</td>\n",
       "      <td>7.0</td>\n",
       "      <td>6.0</td>\n",
       "      <td>1.0</td>\n",
       "    </tr>\n",
       "    <tr>\n",
       "      <th>2</th>\n",
       "      <td>0.0</td>\n",
       "      <td>1.0</td>\n",
       "      <td>1.0</td>\n",
       "      <td>1.0</td>\n",
       "      <td>28.0</td>\n",
       "      <td>0.0</td>\n",
       "      <td>0.0</td>\n",
       "      <td>0.0</td>\n",
       "      <td>0.0</td>\n",
       "      <td>1.0</td>\n",
       "      <td>...</td>\n",
       "      <td>1.0</td>\n",
       "      <td>1.0</td>\n",
       "      <td>5.0</td>\n",
       "      <td>30.0</td>\n",
       "      <td>30.0</td>\n",
       "      <td>1.0</td>\n",
       "      <td>0.0</td>\n",
       "      <td>9.0</td>\n",
       "      <td>4.0</td>\n",
       "      <td>8.0</td>\n",
       "    </tr>\n",
       "    <tr>\n",
       "      <th>3</th>\n",
       "      <td>0.0</td>\n",
       "      <td>1.0</td>\n",
       "      <td>0.0</td>\n",
       "      <td>1.0</td>\n",
       "      <td>27.0</td>\n",
       "      <td>0.0</td>\n",
       "      <td>0.0</td>\n",
       "      <td>0.0</td>\n",
       "      <td>1.0</td>\n",
       "      <td>1.0</td>\n",
       "      <td>...</td>\n",
       "      <td>1.0</td>\n",
       "      <td>0.0</td>\n",
       "      <td>2.0</td>\n",
       "      <td>0.0</td>\n",
       "      <td>0.0</td>\n",
       "      <td>0.0</td>\n",
       "      <td>0.0</td>\n",
       "      <td>11.0</td>\n",
       "      <td>3.0</td>\n",
       "      <td>6.0</td>\n",
       "    </tr>\n",
       "    <tr>\n",
       "      <th>4</th>\n",
       "      <td>0.0</td>\n",
       "      <td>1.0</td>\n",
       "      <td>1.0</td>\n",
       "      <td>1.0</td>\n",
       "      <td>24.0</td>\n",
       "      <td>0.0</td>\n",
       "      <td>0.0</td>\n",
       "      <td>0.0</td>\n",
       "      <td>1.0</td>\n",
       "      <td>1.0</td>\n",
       "      <td>...</td>\n",
       "      <td>1.0</td>\n",
       "      <td>0.0</td>\n",
       "      <td>2.0</td>\n",
       "      <td>3.0</td>\n",
       "      <td>0.0</td>\n",
       "      <td>0.0</td>\n",
       "      <td>0.0</td>\n",
       "      <td>11.0</td>\n",
       "      <td>5.0</td>\n",
       "      <td>4.0</td>\n",
       "    </tr>\n",
       "  </tbody>\n",
       "</table>\n",
       "<p>5 rows × 22 columns</p>\n",
       "</div>"
      ],
      "text/plain": [
       "   Diabetes_012  HighBP  HighChol  CholCheck   BMI  Smoker  Stroke  \\\n",
       "0           0.0     1.0       1.0        1.0  40.0     1.0     0.0   \n",
       "1           0.0     0.0       0.0        0.0  25.0     1.0     0.0   \n",
       "2           0.0     1.0       1.0        1.0  28.0     0.0     0.0   \n",
       "3           0.0     1.0       0.0        1.0  27.0     0.0     0.0   \n",
       "4           0.0     1.0       1.0        1.0  24.0     0.0     0.0   \n",
       "\n",
       "   HeartDiseaseorAttack  PhysActivity  Fruits  ...  AnyHealthcare  \\\n",
       "0                   0.0           0.0     0.0  ...            1.0   \n",
       "1                   0.0           1.0     0.0  ...            0.0   \n",
       "2                   0.0           0.0     1.0  ...            1.0   \n",
       "3                   0.0           1.0     1.0  ...            1.0   \n",
       "4                   0.0           1.0     1.0  ...            1.0   \n",
       "\n",
       "   NoDocbcCost  GenHlth  MentHlth  PhysHlth  DiffWalk  Sex   Age  Education  \\\n",
       "0          0.0      5.0      18.0      15.0       1.0  0.0   9.0        4.0   \n",
       "1          1.0      3.0       0.0       0.0       0.0  0.0   7.0        6.0   \n",
       "2          1.0      5.0      30.0      30.0       1.0  0.0   9.0        4.0   \n",
       "3          0.0      2.0       0.0       0.0       0.0  0.0  11.0        3.0   \n",
       "4          0.0      2.0       3.0       0.0       0.0  0.0  11.0        5.0   \n",
       "\n",
       "   Income  \n",
       "0     3.0  \n",
       "1     1.0  \n",
       "2     8.0  \n",
       "3     6.0  \n",
       "4     4.0  \n",
       "\n",
       "[5 rows x 22 columns]"
      ]
     },
     "execution_count": 3,
     "metadata": {},
     "output_type": "execute_result"
    }
   ],
   "source": [
    "df1.head()"
   ]
  },
  {
   "cell_type": "code",
   "execution_count": 4,
   "id": "0a589c68",
   "metadata": {},
   "outputs": [],
   "source": [
    "def collapse(x):\n",
    "    if x == 0:\n",
    "        return 0\n",
    "    else:\n",
    "        return 1\n",
    "    "
   ]
  },
  {
   "cell_type": "code",
   "execution_count": 5,
   "id": "e15fd6cb",
   "metadata": {},
   "outputs": [],
   "source": [
    "df1[\"Diabetes_012\"] = df1[\"Diabetes_012\"].apply(collapse)"
   ]
  },
  {
   "cell_type": "code",
   "execution_count": 6,
   "id": "36f5b530",
   "metadata": {},
   "outputs": [],
   "source": [
    "df1.rename(columns={\"Diabetes_012\":\"Diabetic\"}, inplace=True)\n",
    "df2.rename(columns={\"Diabetes_binary\":\"Diabetic\"}, inplace=True)\n",
    "df3.rename(columns={\"Diabetes_binary\":\"Diabetic\"}, inplace=True)\n"
   ]
  },
  {
   "cell_type": "code",
   "execution_count": 7,
   "id": "ac581917",
   "metadata": {},
   "outputs": [
    {
     "name": "stdout",
     "output_type": "stream",
     "text": [
      "<class 'pandas.core.frame.DataFrame'>\n",
      "RangeIndex: 253680 entries, 0 to 253679\n",
      "Data columns (total 22 columns):\n",
      " #   Column                Non-Null Count   Dtype  \n",
      "---  ------                --------------   -----  \n",
      " 0   Diabetic              253680 non-null  int64  \n",
      " 1   HighBP                253680 non-null  float64\n",
      " 2   HighChol              253680 non-null  float64\n",
      " 3   CholCheck             253680 non-null  float64\n",
      " 4   BMI                   253680 non-null  float64\n",
      " 5   Smoker                253680 non-null  float64\n",
      " 6   Stroke                253680 non-null  float64\n",
      " 7   HeartDiseaseorAttack  253680 non-null  float64\n",
      " 8   PhysActivity          253680 non-null  float64\n",
      " 9   Fruits                253680 non-null  float64\n",
      " 10  Veggies               253680 non-null  float64\n",
      " 11  HvyAlcoholConsump     253680 non-null  float64\n",
      " 12  AnyHealthcare         253680 non-null  float64\n",
      " 13  NoDocbcCost           253680 non-null  float64\n",
      " 14  GenHlth               253680 non-null  float64\n",
      " 15  MentHlth              253680 non-null  float64\n",
      " 16  PhysHlth              253680 non-null  float64\n",
      " 17  DiffWalk              253680 non-null  float64\n",
      " 18  Sex                   253680 non-null  float64\n",
      " 19  Age                   253680 non-null  float64\n",
      " 20  Education             253680 non-null  float64\n",
      " 21  Income                253680 non-null  float64\n",
      "dtypes: float64(21), int64(1)\n",
      "memory usage: 42.6 MB\n"
     ]
    }
   ],
   "source": [
    "df1.info()"
   ]
  },
  {
   "cell_type": "code",
   "execution_count": 8,
   "id": "541423c3",
   "metadata": {},
   "outputs": [],
   "source": [
    "from sklearn.preprocessing import StandardScaler\n",
    "scaler = StandardScaler()"
   ]
  },
  {
   "cell_type": "code",
   "execution_count": 9,
   "id": "e4ec5a15",
   "metadata": {},
   "outputs": [],
   "source": [
    "BMI = scaler.fit_transform([df1[\"BMI\"]])"
   ]
  },
  {
   "cell_type": "code",
   "execution_count": 10,
   "id": "f8c77efe",
   "metadata": {},
   "outputs": [],
   "source": [
    "df1[\"BMI\"] = BMI[0]\n"
   ]
  },
  {
   "cell_type": "code",
   "execution_count": 11,
   "id": "71b5db20",
   "metadata": {},
   "outputs": [],
   "source": [
    "df2[\"BMI\"] = scaler.fit_transform([df2[\"BMI\"]])[0]\n",
    "df3[\"BMI\"] = scaler.fit_transform([df3[\"BMI\"]])[0]"
   ]
  },
  {
   "cell_type": "code",
   "execution_count": 12,
   "id": "905ac3ba",
   "metadata": {},
   "outputs": [
    {
     "data": {
      "text/plain": [
       "0    0.0\n",
       "1    0.0\n",
       "2    0.0\n",
       "3    0.0\n",
       "4    0.0\n",
       "Name: BMI, dtype: float64"
      ]
     },
     "execution_count": 12,
     "metadata": {},
     "output_type": "execute_result"
    }
   ],
   "source": [
    "df3[\"BMI\"].head()"
   ]
  },
  {
   "cell_type": "code",
   "execution_count": 13,
   "id": "7a97fb60",
   "metadata": {},
   "outputs": [],
   "source": [
    "from sklearn.model_selection import train_test_split \n",
    "\n",
    "df1_train, df1_test = train_test_split(df1, train_size=0.8)\n",
    "df2_train, df2_test = train_test_split(df2, train_size=0.8)\n",
    "df3_train, df3_test = train_test_split(df3, train_size=0.8)"
   ]
  },
  {
   "cell_type": "code",
   "execution_count": 14,
   "id": "8f72761f",
   "metadata": {},
   "outputs": [],
   "source": [
    "testing = pd.concat([df1_test, df2_test, df3_test], axis=0)"
   ]
  },
  {
   "cell_type": "code",
   "execution_count": 15,
   "id": "cc12fe74",
   "metadata": {},
   "outputs": [
    {
     "data": {
      "text/plain": [
       "(115611, 22)"
      ]
     },
     "execution_count": 15,
     "metadata": {},
     "output_type": "execute_result"
    }
   ],
   "source": [
    "testing.shape"
   ]
  },
  {
   "cell_type": "code",
   "execution_count": 16,
   "id": "7b66631e",
   "metadata": {},
   "outputs": [
    {
     "data": {
      "text/plain": [
       "462441"
      ]
     },
     "execution_count": 16,
     "metadata": {},
     "output_type": "execute_result"
    }
   ],
   "source": [
    "df1_train.shape[0] + df2_train.shape[0] + df3_train.shape[0]"
   ]
  },
  {
   "cell_type": "code",
   "execution_count": 17,
   "id": "e798870a",
   "metadata": {},
   "outputs": [],
   "source": [
    "from imblearn.under_sampling import RandomUnderSampler\n",
    "sampler = RandomUnderSampler(random_state=42)\n",
    "df1_x, df1_y = sampler.fit_resample(df1_train.drop(\"Diabetic\", axis=1), df1_train[\"Diabetic\"])\n",
    "df2_x, df2_y = df2_train.drop(\"Diabetic\", axis=1), df2_train[\"Diabetic\"]\n",
    "df3_x, df3_y = sampler.fit_resample(df3_train.drop(\"Diabetic\", axis=1),df3_train[\"Diabetic\"])"
   ]
  },
  {
   "cell_type": "code",
   "execution_count": 18,
   "id": "5543b1c9",
   "metadata": {},
   "outputs": [],
   "source": [
    "x_train_uc = pd.concat([df1_x,\n",
    "                    df2_x,\n",
    "                    df3_x], axis=0)\n",
    "\n",
    "y_train_uc = pd.concat([df1_y,\n",
    "                    df2_y,\n",
    "                    df3_y], axis=0)"
   ]
  },
  {
   "cell_type": "code",
   "execution_count": 19,
   "id": "45e1cf56",
   "metadata": {},
   "outputs": [
    {
     "data": {
      "text/plain": [
       "((177055, 21), (177055,))"
      ]
     },
     "execution_count": 19,
     "metadata": {},
     "output_type": "execute_result"
    }
   ],
   "source": [
    "x_train_uc.shape, y_train_uc.shape"
   ]
  },
  {
   "cell_type": "code",
   "execution_count": 20,
   "id": "29b3f1d0",
   "metadata": {},
   "outputs": [],
   "source": [
    "from imblearn.over_sampling import RandomOverSampler\n",
    "roc = RandomOverSampler(random_state=42)\n",
    "df1_x_oc, df1_y_oc = roc.fit_resample(df1_train.drop(\"Diabetic\", axis=1), df1_train[\"Diabetic\"])\n",
    "df3_x_oc, df3_y_oc = roc.fit_resample(df3_train.drop(\"Diabetic\", axis=1),df3_train[\"Diabetic\"])"
   ]
  },
  {
   "cell_type": "code",
   "execution_count": 21,
   "id": "ee5a543f",
   "metadata": {},
   "outputs": [],
   "source": [
    "x_train_oc = pd.concat([df1_x_oc,\n",
    "                    df2_x,\n",
    "                    df3_x_oc], axis=0)\n",
    "\n",
    "y_train_oc = pd.concat([df1_y_oc,\n",
    "                    df2_y,\n",
    "                    df3_y_oc], axis=0)"
   ]
  },
  {
   "cell_type": "code",
   "execution_count": 22,
   "id": "582e9959",
   "metadata": {},
   "outputs": [
    {
     "data": {
      "text/plain": [
       "(747827, 21)"
      ]
     },
     "execution_count": 22,
     "metadata": {},
     "output_type": "execute_result"
    }
   ],
   "source": [
    "x_train_oc.shape"
   ]
  },
  {
   "cell_type": "code",
   "execution_count": 23,
   "id": "5139fd2b",
   "metadata": {},
   "outputs": [],
   "source": [
    "x_test , y_test = testing.drop(\"Diabetic\", axis=1), testing[\"Diabetic\"]"
   ]
  },
  {
   "cell_type": "code",
   "execution_count": 24,
   "id": "73de10fe",
   "metadata": {},
   "outputs": [],
   "source": [
    "# intialise all the model\n",
    "from sklearn.linear_model import LogisticRegression\n",
    "from sklearn.svm import SVC\n",
    "from sklearn.neighbors import KNeighborsClassifier\n",
    "from sklearn.ensemble import RandomForestClassifier\n",
    "from xgboost import XGBClassifier\n",
    "lr = LogisticRegression(random_state=42)\n",
    "knnc = KNeighborsClassifier()\n",
    "rfc = RandomForestClassifier(random_state=42)\n",
    "xgb = XGBClassifier(random_state = 42)"
   ]
  },
  {
   "cell_type": "code",
   "execution_count": 25,
   "id": "a63d8953",
   "metadata": {},
   "outputs": [],
   "source": [
    "# intialise the metrics \n",
    "from sklearn.metrics import precision_score, recall_score, roc_auc_score, precision_recall_curve, confusion_matrix"
   ]
  },
  {
   "cell_type": "code",
   "execution_count": 26,
   "id": "74093080",
   "metadata": {},
   "outputs": [],
   "source": [
    "training_data_oc = [x_train_uc, y_train_uc]\n",
    "all_the_models = [lr,\n",
    "knnc,\n",
    "rfc,\n",
    "xgb,]"
   ]
  },
  {
   "cell_type": "code",
   "execution_count": 27,
   "id": "b68d2974",
   "metadata": {},
   "outputs": [
    {
     "name": "stdout",
     "output_type": "stream",
     "text": [
      "the training model is LogisticRegression(random_state=42)\n"
     ]
    },
    {
     "name": "stderr",
     "output_type": "stream",
     "text": [
      "/home/black_tree/Documents/computer_science/capstone-ML-project/venv/lib/python3.12/site-packages/sklearn/linear_model/_logistic.py:473: ConvergenceWarning: lbfgs failed to converge after 100 iteration(s) (status=1):\n",
      "STOP: TOTAL NO. OF ITERATIONS REACHED LIMIT\n",
      "\n",
      "Increase the number of iterations to improve the convergence (max_iter=100).\n",
      "You might also want to scale the data as shown in:\n",
      "    https://scikit-learn.org/stable/modules/preprocessing.html\n",
      "Please also refer to the documentation for alternative solver options:\n",
      "    https://scikit-learn.org/stable/modules/linear_model.html#logistic-regression\n",
      "  n_iter_i = _check_optimize_result(\n"
     ]
    },
    {
     "name": "stdout",
     "output_type": "stream",
     "text": [
      "the training model is KNeighborsClassifier()\n",
      "the training model is RandomForestClassifier(random_state=42)\n",
      "the training model is XGBClassifier(base_score=None, booster=None, callbacks=None,\n",
      "              colsample_bylevel=None, colsample_bynode=None,\n",
      "              colsample_bytree=None, device=None, early_stopping_rounds=None,\n",
      "              enable_categorical=False, eval_metric=None, feature_types=None,\n",
      "              feature_weights=None, gamma=None, grow_policy=None,\n",
      "              importance_type=None, interaction_constraints=None,\n",
      "              learning_rate=None, max_bin=None, max_cat_threshold=None,\n",
      "              max_cat_to_onehot=None, max_delta_step=None, max_depth=None,\n",
      "              max_leaves=None, min_child_weight=None, missing=nan,\n",
      "              monotone_constraints=None, multi_strategy=None, n_estimators=None,\n",
      "              n_jobs=None, num_parallel_tree=None, ...)\n"
     ]
    }
   ],
   "source": [
    "for model in all_the_models:\n",
    "    print(f\"the training model is {model}\")\n",
    "    model.fit(training_data_oc[0], training_data_oc[1])"
   ]
  },
  {
   "cell_type": "code",
   "execution_count": 28,
   "id": "3a3c9640",
   "metadata": {},
   "outputs": [],
   "source": [
    "p_lr = lr.predict(x_train_uc)\n",
    "p_knnc = knnc.predict(x_train_uc)\n",
    "p_rfc = rfc.predict(x_train_uc)\n",
    "p_xgb = xgb.predict(x_train_uc)\n"
   ]
  },
  {
   "cell_type": "code",
   "execution_count": 29,
   "id": "d4372c89",
   "metadata": {},
   "outputs": [],
   "source": [
    "s_lr = lr.predict_proba(x_train_uc)\n",
    "s_knnc = knnc.predict_proba(x_train_uc)\n",
    "s_rfc = rfc.predict_proba(x_train_uc)\n",
    "s_xgb = xgb.predict_proba(x_train_uc)"
   ]
  },
  {
   "cell_type": "code",
   "execution_count": 30,
   "id": "ff07eb41",
   "metadata": {},
   "outputs": [],
   "source": [
    "from sklearn.metrics import accuracy_score"
   ]
  },
  {
   "cell_type": "code",
   "execution_count": 31,
   "id": "2c9e89a8",
   "metadata": {},
   "outputs": [],
   "source": [
    "acc = {\"lr\": None,\n",
    "       \"knnc\": None, \"rfc\": None, \"xgb\": None}\n",
    "\n",
    "pred = [p_lr\n",
    ",p_knnc\n",
    ",p_rfc\n",
    ",p_xgb]\n",
    "\n",
    "probab = [s_lr,\n",
    "s_knnc,\n",
    "s_rfc,\n",
    "s_xgb,]\n",
    "\n",
    "for model in all_the_models:\n",
    "    i = 0\n",
    "    for key in acc:\n",
    "        acc[key] = accuracy_score(y_true= y_train_uc, y_pred= pred[i])\n",
    "        i += 1"
   ]
  },
  {
   "cell_type": "code",
   "execution_count": 32,
   "id": "2ef8a2a6",
   "metadata": {},
   "outputs": [],
   "source": [
    "recall = {\"lr\": None, \n",
    "       \"knnc\": None, \"rfc\": None, \"xgb\": None}\n",
    "presc = {\"lr\": None, \n",
    "       \"knnc\": None, \"rfc\": None, \"xgb\": None}\n",
    "roc = {\"lr\": None, \n",
    "       \"knnc\": None, \"rfc\": None, \"xgb\": None}\n",
    "cm = {\"lr\": None, \n",
    "       \"knnc\": None, \"rfc\": None, \"xgb\": None}\n"
   ]
  },
  {
   "cell_type": "code",
   "execution_count": 33,
   "id": "aa190da9",
   "metadata": {},
   "outputs": [
    {
     "data": {
      "text/plain": [
       "array([0.14963691, 0.71621909, 0.69123925, ..., 0.49537221, 0.88572429,\n",
       "       0.41489809], shape=(177055,))"
      ]
     },
     "execution_count": 33,
     "metadata": {},
     "output_type": "execute_result"
    }
   ],
   "source": [
    "probab[0][:, 1]"
   ]
  },
  {
   "cell_type": "code",
   "execution_count": 34,
   "id": "ebf51bd8",
   "metadata": {},
   "outputs": [],
   "source": [
    "for model in all_the_models:\n",
    "    i = 0\n",
    "    for key in recall:\n",
    "        recall[key] = recall_score(y_true= y_train_uc, y_pred= pred[i])\n",
    "        i += 1\n",
    "\n",
    "for model in all_the_models:\n",
    "    i = 0\n",
    "    for key in presc:\n",
    "        presc[key] = precision_score(y_true= y_train_uc, y_pred= pred[i])\n",
    "        i += 1\n",
    "\n",
    "for model in all_the_models:\n",
    "    i = 0\n",
    "    for key in roc:\n",
    "        roc[key] = roc_auc_score(y_true= y_train_uc, y_score= probab[i][:, 1])\n",
    "        i += 1\n",
    "\n",
    "\n",
    "for model in all_the_models:\n",
    "    i = 0\n",
    "    for key in cm:\n",
    "        cm[key] = confusion_matrix(y_true= y_train_uc, y_pred= pred[i])\n",
    "        i += 1"
   ]
  },
  {
   "cell_type": "code",
   "execution_count": 35,
   "id": "5f32a263",
   "metadata": {},
   "outputs": [
    {
     "name": "stdout",
     "output_type": "stream",
     "text": [
      "Accuracy:\n",
      "   # lr: 0.7326\n",
      "   # knnc: 0.8444\n",
      "   # rfc: 0.9568\n",
      "   # xgb: 0.7635\n"
     ]
    }
   ],
   "source": [
    "print(\"Accuracy:\")\n",
    "for k in acc:\n",
    "    a = format(acc[k], \".4f\")\n",
    "    print(f\"   # {k}: {a}\")"
   ]
  },
  {
   "cell_type": "code",
   "execution_count": 36,
   "id": "bfb30f3d",
   "metadata": {},
   "outputs": [
    {
     "name": "stdout",
     "output_type": "stream",
     "text": [
      "Roc score\n",
      "  # lr: 0.81\n",
      "  # knnc: 0.92\n",
      "  # rfc: 0.99\n",
      "  # xgb: 0.85\n"
     ]
    }
   ],
   "source": [
    "print(\"Roc score\")\n",
    "for k in  roc:\n",
    "    r = roc[k]\n",
    "    print(f\"  # {k}: {r:.2f}\")"
   ]
  },
  {
   "cell_type": "code",
   "execution_count": 37,
   "id": "0e60d596",
   "metadata": {},
   "outputs": [
    {
     "name": "stdout",
     "output_type": "stream",
     "text": [
      "Precision and Recall\n",
      " # lr: 0.75 | 0.72\n",
      " # knnc: 0.88 | 0.82\n",
      " # rfc: 0.96 | 0.95\n",
      " # xgb: 0.82 | 0.74\n"
     ]
    }
   ],
   "source": [
    "print(\"Precision and Recall\")\n",
    "for k in recall:\n",
    "    rec = recall[k]\n",
    "    pre = presc[k]\n",
    "    print(f\" # {k}: {rec:.2f} | {pre:.2f}\")"
   ]
  },
  {
   "cell_type": "code",
   "execution_count": 38,
   "id": "e58c101f",
   "metadata": {},
   "outputs": [
    {
     "data": {
      "image/png": "[encoded data removed]",
      "text/plain": [
       "<Figure size 640x480 with 8 Axes>"
      ]
     },
     "metadata": {},
     "output_type": "display_data"
    }
   ],
   "source": [
    "fig, ax = plt.subplots(nrows=2 , ncols=2)\n",
    "models = [\"lr\", \"knnc\", \"rfc\", \"xgb\"]\n",
    "k = 0\n",
    "for i in range(2):\n",
    "\n",
    "    for j in range(2):\n",
    "        sns.heatmap(cm[models[k]], ax=ax[i][j], annot=True, \n",
    "                    xticklabels=[\"False\", \"True\"], yticklabels=[\"False\", \"True\"]\n",
    "                    )\n",
    "        ax[i][j].set_title(models[k])\n",
    "        k += 1\n",
    "        \n",
    "plt.tight_layout()"
   ]
  },
  {
   "cell_type": "code",
   "execution_count": 70,
   "id": "8bfdf230",
   "metadata": {},
   "outputs": [],
   "source": [
    "train = pd.concat([x_train_uc, y_train_uc], axis= 1)"
   ]
  },
  {
   "cell_type": "code",
   "execution_count": 71,
   "id": "e2c28d6d",
   "metadata": {},
   "outputs": [
    {
     "data": {
      "text/plain": [
       "(177055, 22)"
      ]
     },
     "execution_count": 71,
     "metadata": {},
     "output_type": "execute_result"
    }
   ],
   "source": [
    "y_train_uc.isnull().value_counts()\n",
    "x_train_uc.shape\n",
    "train.shape"
   ]
  },
  {
   "cell_type": "code",
   "execution_count": 72,
   "id": "cb3873c8",
   "metadata": {},
   "outputs": [],
   "source": [
    "train.to_csv(\"/home/black_tree/Documents/computer_science/capstone-ML-project/data/trainig_data.csv\", index= False)"
   ]
  },
  {
   "cell_type": "code",
   "execution_count": 73,
   "id": "b4de512b",
   "metadata": {},
   "outputs": [],
   "source": [
    "test = pd.concat([x_test, y_test], axis=1)"
   ]
  },
  {
   "cell_type": "code",
   "execution_count": 74,
   "id": "9783180c",
   "metadata": {},
   "outputs": [],
   "source": [
    "test.to_csv(\"/home/black_tree/Documents/computer_science/capstone-ML-project/data/testing_data.csv\", index= False)"
   ]
  },
  {
   "cell_type": "code",
   "execution_count": 49,
   "id": "1aa3657b",
   "metadata": {},
   "outputs": [],
   "source": [
    "models = recall.keys()\n",
    "recall_s = recall.values()\n",
    "prescion = presc.values()\n",
    "confusion_mat = cm.values()\n",
    "roc_area = roc.values()\n",
    "model_number = [\"pass 1\" for _ in range(4)]\n",
    "\n",
    "df_metrics = pd.DataFrame({\"models\" : models, \n",
    "                                   \"recall\" : recall_s, \n",
    "                                   \"precision_score\": prescion, \n",
    "                                   \"cm\": confusion_mat, \n",
    "                                   \"roc\" : roc_area, \n",
    "                                   \"model number\": model_number})\n",
    "\n"
   ]
  },
  {
   "cell_type": "code",
   "execution_count": 50,
   "id": "f6672e6a",
   "metadata": {},
   "outputs": [
    {
     "data": {
      "text/html": [
       "<div>\n",
       "<style scoped>\n",
       "    .dataframe tbody tr th:only-of-type {\n",
       "        vertical-align: middle;\n",
       "    }\n",
       "\n",
       "    .dataframe tbody tr th {\n",
       "        vertical-align: top;\n",
       "    }\n",
       "\n",
       "    .dataframe thead th {\n",
       "        text-align: right;\n",
       "    }\n",
       "</style>\n",
       "<table border=\"1\" class=\"dataframe\">\n",
       "  <thead>\n",
       "    <tr style=\"text-align: right;\">\n",
       "      <th></th>\n",
       "      <th>models</th>\n",
       "      <th>recall</th>\n",
       "      <th>precision_score</th>\n",
       "      <th>cm</th>\n",
       "      <th>roc</th>\n",
       "      <th>model number</th>\n",
       "    </tr>\n",
       "  </thead>\n",
       "  <tbody>\n",
       "    <tr>\n",
       "      <th>0</th>\n",
       "      <td>lr</td>\n",
       "      <td>0.750771</td>\n",
       "      <td>0.724370</td>\n",
       "      <td>[[63256, 25286], [22060, 66453]]</td>\n",
       "      <td>0.805781</td>\n",
       "      <td>pass 1</td>\n",
       "    </tr>\n",
       "    <tr>\n",
       "      <th>1</th>\n",
       "      <td>knnc</td>\n",
       "      <td>0.878583</td>\n",
       "      <td>0.822390</td>\n",
       "      <td>[[71747, 16795], [10747, 77766]]</td>\n",
       "      <td>0.918507</td>\n",
       "      <td>pass 1</td>\n",
       "    </tr>\n",
       "    <tr>\n",
       "      <th>2</th>\n",
       "      <td>rfc</td>\n",
       "      <td>0.961136</td>\n",
       "      <td>0.952879</td>\n",
       "      <td>[[84335, 4207], [3440, 85073]]</td>\n",
       "      <td>0.993432</td>\n",
       "      <td>pass 1</td>\n",
       "    </tr>\n",
       "    <tr>\n",
       "      <th>3</th>\n",
       "      <td>xgb</td>\n",
       "      <td>0.817530</td>\n",
       "      <td>0.737740</td>\n",
       "      <td>[[62818, 25724], [16151, 72362]]</td>\n",
       "      <td>0.845588</td>\n",
       "      <td>pass 1</td>\n",
       "    </tr>\n",
       "  </tbody>\n",
       "</table>\n",
       "</div>"
      ],
      "text/plain": [
       "  models    recall  precision_score                                cm  \\\n",
       "0     lr  0.750771         0.724370  [[63256, 25286], [22060, 66453]]   \n",
       "1   knnc  0.878583         0.822390  [[71747, 16795], [10747, 77766]]   \n",
       "2    rfc  0.961136         0.952879    [[84335, 4207], [3440, 85073]]   \n",
       "3    xgb  0.817530         0.737740  [[62818, 25724], [16151, 72362]]   \n",
       "\n",
       "        roc model number  \n",
       "0  0.805781       pass 1  \n",
       "1  0.918507       pass 1  \n",
       "2  0.993432       pass 1  \n",
       "3  0.845588       pass 1  "
      ]
     },
     "execution_count": 50,
     "metadata": {},
     "output_type": "execute_result"
    }
   ],
   "source": [
    "df_metrics.head()"
   ]
  },
  {
   "cell_type": "code",
   "execution_count": null,
   "id": "47e4830d",
   "metadata": {},
   "outputs": [],
   "source": [
    "# df_metrics.to_csv(\"/home/black_tree/Documents/computer_science/capstone-ML-project/data/metrics.csv\", index=False)"
   ]
  },
  {
   "cell_type": "code",
   "execution_count": null,
   "id": "c9a6f70a",
   "metadata": {},
   "outputs": [],
   "source": []
  },
  {
   "cell_type": "code",
   "execution_count": null,
   "id": "ab099437",
   "metadata": {},
   "outputs": [],
   "source": []
  }
 ],
 "metadata": {
  "kernelspec": {
   "display_name": "venv",
   "language": "python",
   "name": "python3"
  },
  "language_info": {
   "codemirror_mode": {
    "name": "ipython",
    "version": 3
   },
   "file_extension": ".py",
   "mimetype": "text/x-python",
   "name": "python",
   "nbconvert_exporter": "python",
   "pygments_lexer": "ipython3",
   "version": "3.12.10"
  }
 },
 "nbformat": 4,
 "nbformat_minor": 5
}
